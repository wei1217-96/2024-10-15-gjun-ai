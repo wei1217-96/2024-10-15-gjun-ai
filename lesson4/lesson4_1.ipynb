{
 "cells": [
  {
   "cell_type": "code",
   "execution_count": 12,
   "metadata": {},
   "outputs": [
    {
     "name": "stdout",
     "output_type": "stream",
     "text": [
      "加分\n",
      "學生分數:300\n"
     ]
    }
   ],
   "source": [
    "scores = eval(input(\"請輸入學生分數(最高300分):\"))\n",
    "if scores >= 300:\n",
    "    scores = 300\n",
    "is_add = input('學生是否符合加分條件?(y,n)')\n",
    "if is_add == \"y\":\n",
    "    print(\"加分\")\n",
    "    scores *= 1.05\n",
    "    if scores >= 300:\n",
    "        scores = 300\n",
    "print(f\"學生分數:{scores:.0f}\")"
   ]
  },
  {
   "cell_type": "code",
   "execution_count": 13,
   "metadata": {},
   "outputs": [
    {
     "name": "stdout",
     "output_type": "stream",
     "text": [
      "發生錯誤\n"
     ]
    }
   ],
   "source": [
    "try:\n",
    "    raise Exception('無法處理')\n",
    "except:\n",
    "    print(\"發生錯誤\")"
   ]
  },
  {
   "cell_type": "code",
   "execution_count": 14,
   "metadata": {},
   "outputs": [
    {
     "name": "stdout",
     "output_type": "stream",
     "text": [
      "沒有錯誤\n"
     ]
    }
   ],
   "source": [
    "try:\n",
    "    #raise Exception('無法處理')\n",
    "    pass\n",
    "except Exception as e:\n",
    "    print(\"發生錯誤\")\n",
    "    print(f\"錯誤是:{e}\")\n",
    "else:\n",
    "    print('沒有錯誤')"
   ]
  },
  {
   "cell_type": "code",
   "execution_count": 15,
   "metadata": {},
   "outputs": [
    {
     "name": "stdout",
     "output_type": "stream",
     "text": [
      "目前發生錯誤:invalid decimal literal (<string>, line 1)\n"
     ]
    }
   ],
   "source": [
    "try:\n",
    "    money = eval(input(\"請輸入金額:\"))\n",
    "    print(money)\n",
    "except Exception as e:\n",
    "    print(f\"目前發生錯誤:{e}\")\n"
   ]
  },
  {
   "cell_type": "code",
   "execution_count": 19,
   "metadata": {},
   "outputs": [
    {
     "name": "stdout",
     "output_type": "stream",
     "text": [
      "輸入格式錯誤\n",
      "程式錯誤\n"
     ]
    }
   ],
   "source": [
    "try:    \n",
    "    scores = eval(input(\"請輸入學生分數(最高300分):\"))\n",
    "    if scores >= 300:\n",
    "        scores = 300\n",
    "    is_add = input('學生是否符合加分條件?(y,n)')\n",
    "    if is_add == \"y\":\n",
    "        print(\"加分\")\n",
    "        scores *= 1.05\n",
    "        if scores >= 300:\n",
    "            scores = 300\n",
    "    print(f\"學生分數:{scores:.0f}\")\n",
    "except SyntaxError:\n",
    "    print(\"輸入格式錯誤\")\n",
    "except Exception:\n",
    "     print(\"不知名的錯誤\")\n",
    "print(\"程式錯誤\")"
   ]
  }
 ],
 "metadata": {
  "kernelspec": {
   "display_name": "Python 3",
   "language": "python",
   "name": "python3"
  },
  "language_info": {
   "codemirror_mode": {
    "name": "ipython",
    "version": 3
   },
   "file_extension": ".py",
   "mimetype": "text/x-python",
   "name": "python",
   "nbconvert_exporter": "python",
   "pygments_lexer": "ipython3",
   "version": "3.10.15"
  }
 },
 "nbformat": 4,
 "nbformat_minor": 2
}
