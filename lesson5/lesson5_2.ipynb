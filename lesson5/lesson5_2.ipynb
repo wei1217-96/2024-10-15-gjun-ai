{
 "cells": [
  {
   "cell_type": "code",
   "execution_count": 1,
   "metadata": {},
   "outputs": [
    {
     "data": {
      "text/plain": [
       "10"
      ]
     },
     "execution_count": 1,
     "metadata": {},
     "output_type": "execute_result"
    }
   ],
   "source": [
    "i = 0\n",
    "for i in range(10):\n",
    "    i = i+1\n",
    "i"
   ]
  },
  {
   "cell_type": "code",
   "execution_count": 2,
   "metadata": {},
   "outputs": [
    {
     "name": "stdout",
     "output_type": "stream",
     "text": [
      "p\n",
      "y\n",
      "t\n",
      "h\n",
      "o\n",
      "n\n"
     ]
    }
   ],
   "source": [
    "for word in \"python\":\n",
    "    print(word)"
   ]
  },
  {
   "cell_type": "code",
   "execution_count": 3,
   "metadata": {},
   "outputs": [
    {
     "name": "stdout",
     "output_type": "stream",
     "text": [
      "i=1\n",
      "j=1 j=2 j=3 j=4 j=5 j=6 j=7 j=8 j=9 \n",
      "i=2\n",
      "j=1 j=2 j=3 j=4 j=5 j=6 j=7 j=8 j=9 \n",
      "i=3\n",
      "j=1 j=2 j=3 j=4 j=5 j=6 j=7 j=8 j=9 \n",
      "i=4\n",
      "j=1 j=2 j=3 j=4 j=5 j=6 j=7 j=8 j=9 \n",
      "i=5\n",
      "j=1 j=2 j=3 j=4 j=5 j=6 j=7 j=8 j=9 \n",
      "i=6\n",
      "j=1 j=2 j=3 j=4 j=5 j=6 j=7 j=8 j=9 \n",
      "i=7\n",
      "j=1 j=2 j=3 j=4 j=5 j=6 j=7 j=8 j=9 \n",
      "i=8\n",
      "j=1 j=2 j=3 j=4 j=5 j=6 j=7 j=8 j=9 \n",
      "i=9\n",
      "j=1 j=2 j=3 j=4 j=5 j=6 j=7 j=8 j=9 \n"
     ]
    }
   ],
   "source": [
    "for i in range(1,10):\n",
    "    print(f\"i={i}\")\n",
    "    for j in range(1,10):\n",
    "        print(f'j={j}',end=' ')\n",
    "    print()"
   ]
  },
  {
   "cell_type": "code",
   "execution_count": 4,
   "metadata": {},
   "outputs": [
    {
     "name": "stdout",
     "output_type": "stream",
     "text": [
      "\n",
      "1 2 3 a b c\n",
      "2.3\n",
      "1-2-3-a-b-c.\n"
     ]
    }
   ],
   "source": [
    "print()\n",
    "print(1, 2, 3, 'a', 'b', 'c')\n",
    "print(2.3)\n",
    "print(1, 2, 3, 'a', 'b', 'c',sep='-',end='.\\n')"
   ]
  },
  {
   "cell_type": "code",
   "execution_count": null,
   "metadata": {},
   "outputs": [],
   "source": [
    "for i in range(1,10):\n",
    "    for j in range(1,10):\n",
    "        print(f'{i} * {j} = {i*j}',end='\\t')\n",
    "    print()"
   ]
  },
  {
   "cell_type": "code",
   "execution_count": 5,
   "metadata": {},
   "outputs": [
    {
     "name": "stdout",
     "output_type": "stream",
     "text": [
      "存了3個月,共50672元\n"
     ]
    }
   ],
   "source": [
    "deposit = 0\n",
    "month = 0\n",
    "while (deposit <= 30000):\n",
    "    month += 1\n",
    "    money = int(input(f\"請輸入第{month}個月的存款\"))\n",
    "    deposit += money\n",
    "print(f\"存了{month}個月,共{deposit}元\")"
   ]
  },
  {
   "cell_type": "code",
   "execution_count": null,
   "metadata": {},
   "outputs": [],
   "source": [
    "number = int(input(\"請輸入數字:\"))\n"
   ]
  },
  {
   "cell_type": "code",
   "execution_count": 21,
   "metadata": {},
   "outputs": [
    {
     "name": "stdout",
     "output_type": "stream",
     "text": [
      "98的因數有: 1 2 7 14 49 98 \n",
      "62的因數有: 1 2 31 62 \n",
      "98與62的最大公因數為: 2\n"
     ]
    }
   ],
   "source": [
    "try:\n",
    "    x = int(input(\"請輸入一個整數:\"))\n",
    "    y = int(input(\"請輸入一個整數:\"))\n",
    "    print(f\"{x}的因數有:\",end=\" \")\n",
    "    for i in range(1,x+1):\n",
    "        if x%i==0:\n",
    "            print(f\"{i}\",end=\" \")\n",
    "    print(\"\\n\"f\"{y}的因數有:\",end=\" \")\n",
    "    for i in range(1,y+1):\n",
    "        if y%i==0:\n",
    "            print(f\"{i}\",end=\" \")\n",
    "    print(\"\\n\"f\"{x}與{y}的最大公因數為:\",end=\" \")\n",
    "    if x>y:\n",
    "        max=x\n",
    "    elif x==y:\n",
    "        max=x\n",
    "    else:\n",
    "        max=y\n",
    "    for i in range(1,max+1):\n",
    "        if x%i==0 and y%i==0:\n",
    "            large=i\n",
    "    print(f\"{large}\")\n",
    "except Exception:\n",
    "    print(\"輸入格式有錯\")"
   ]
  }
 ],
 "metadata": {
  "kernelspec": {
   "display_name": "Python 3",
   "language": "python",
   "name": "python3"
  },
  "language_info": {
   "codemirror_mode": {
    "name": "ipython",
    "version": 3
   },
   "file_extension": ".py",
   "mimetype": "text/x-python",
   "name": "python",
   "nbconvert_exporter": "python",
   "pygments_lexer": "ipython3",
   "version": "3.10.15"
  }
 },
 "nbformat": 4,
 "nbformat_minor": 2
}
