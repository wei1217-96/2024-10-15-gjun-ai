{
 "cells": [
  {
   "cell_type": "code",
   "execution_count": null,
   "metadata": {},
   "outputs": [
    {
     "name": "stdout",
     "output_type": "stream",
     "text": [
      "請輸入身高(cm):1.6\n",
      "請輸入體重(kg):55\n",
      "您的BMI值:214843.75\n",
      "您的體重:重度肥胖\n"
     ]
    }
   ],
   "source": [
    "try:\n",
    "    height=eval(input(\"輸入身高(公分):\"))\n",
    "    kg=eval(input(\"請輸入體重(公斤):\"))\n",
    "    H=height/100\n",
    "    BMI=kg/H**2\n",
    "    print(f\"請輸入身高(cm):{height}\")\n",
    "    print(f\"請輸入體重(kg):{kg}\")\n",
    "    print(f\"您的BMI值:{BMI:.2f}\")\n",
    "    if BMI >=35:\n",
    "        print(\"您的體重:重度肥胖\")\n",
    "    elif BMI >= 30:\n",
    "        print(\"您的體重:中度肥胖\")\n",
    "    elif BMI >= 27:\n",
    "        print(\"您的體重:輕度肥胖\")\n",
    "    elif BMI >= 24:\n",
    "        print(\"您的體重:過重\")\n",
    "    elif BMI >= 18.5:\n",
    "        print(\"您的體重:正常範圍\")\n",
    "    else:\n",
    "        print(\"您的體重:體重過輕\")\n",
    "except Exception:\n",
    "    print(\"格式錯誤\")"
   ]
  }
 ],
 "metadata": {
  "kernelspec": {
   "display_name": "Python 3",
   "language": "python",
   "name": "python3"
  },
  "language_info": {
   "codemirror_mode": {
    "name": "ipython",
    "version": 3
   },
   "file_extension": ".py",
   "mimetype": "text/x-python",
   "name": "python",
   "nbconvert_exporter": "python",
   "pygments_lexer": "ipython3",
   "version": "3.10.15"
  }
 },
 "nbformat": 4,
 "nbformat_minor": 2
}
