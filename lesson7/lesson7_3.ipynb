{
 "cells": [
  {
   "cell_type": "code",
   "execution_count": 2,
   "metadata": {},
   "outputs": [
    {
     "data": {
      "text/plain": [
       "(1, 'hello', 87.5)"
      ]
     },
     "execution_count": 2,
     "metadata": {},
     "output_type": "execute_result"
    }
   ],
   "source": [
    "(1, 'hello', 87.5)"
   ]
  },
  {
   "cell_type": "code",
   "execution_count": 3,
   "metadata": {},
   "outputs": [
    {
     "name": "stdout",
     "output_type": "stream",
     "text": [
      "1\n",
      "hello\n",
      "87.5\n"
     ]
    }
   ],
   "source": [
    "(first, second, third) = (1, 'hello', 87.5)\n",
    "print(first)\n",
    "print(second)\n",
    "print(third)"
   ]
  },
  {
   "cell_type": "code",
   "execution_count": 4,
   "metadata": {},
   "outputs": [
    {
     "data": {
      "text/plain": [
       "(1, 'hello', 87.5)"
      ]
     },
     "execution_count": 4,
     "metadata": {},
     "output_type": "execute_result"
    }
   ],
   "source": [
    "first, second, third"
   ]
  },
  {
   "cell_type": "code",
   "execution_count": 5,
   "metadata": {},
   "outputs": [
    {
     "name": "stdout",
     "output_type": "stream",
     "text": [
      "BMI的計算\n",
      "請輸入姓名:666\n",
      "請輸入身高(cm):666\n",
      "請輸入體重(kg):666\n",
      "666的BMI值:15.02\n",
      "666的體重:體重過輕\n",
      "您還要繼續嗎?(y繼續,n結束):n\n",
      "=========================\n"
     ]
    }
   ],
   "source": [
    "def input_data()->tuple[str,int,int]:\n",
    "    name = input(\"請輸入姓名:\")\n",
    "    print(f\"請輸入姓名:{name}\") #印出姓名\n",
    "    height = eval(input(\"請輸入身高(cm):\"))\n",
    "    print(f\"請輸入身高(cm):{height}\") #印出身高\n",
    "    weight = eval(input(\"請輸入體重(kg):\"))\n",
    "    print(f\"請輸入體重(kg):{weight}\") #印出體重\n",
    "    return name, height, weight\n",
    "\n",
    "def get_status(BMI:int)->str:#有傳出值的function\n",
    "    if BMI >=35:\n",
    "        status = \"重度肥胖\"\n",
    "    elif BMI >= 30:\n",
    "        status = \"中度肥胖\"\n",
    "    elif BMI >= 27:\n",
    "        status = \"輕度肥胖\"\n",
    "    elif BMI >= 24:\n",
    "        status = \"過重\"\n",
    "    elif BMI >= 18.5:\n",
    "        status = \"正常範圍\"\n",
    "    else:\n",
    "        status = \"體重過輕\"\n",
    "\n",
    "    return status \n",
    "        \n",
    "while(True):\n",
    "    print(\"BMI的計算\")\n",
    "    try: #判斷使用者是否有輸入錯誤\n",
    "        name, height, weight = input_data()\n",
    "    except Exception :\n",
    "        print(\"格式錯誤,請重新輸入\")\n",
    "        print(\"=========================\")\n",
    "        continue #重新跑while迴圈\n",
    "    BMI = weight / ((height/100)**2) #如果以上皆正確執行BMI判斷\n",
    "    print(f\"{name}的BMI值:{BMI:.2f}\") #印出BMI\n",
    "    status = get_status(BMI)\n",
    "    print(f\"{name}的體重:{status}\")\n",
    "    value = input(\"您還要繼續嗎?(y繼續,n結束):\") #印出是否繼續\n",
    "    print(f\"您還要繼續嗎?(y繼續,n結束):{value}\")\n",
    "    print(\"=========================\")\n",
    "    if value.upper()=='N': #如果輸入n/N即跳出while迴圈 \n",
    "        break"
   ]
  }
 ],
 "metadata": {
  "kernelspec": {
   "display_name": "Python 3",
   "language": "python",
   "name": "python3"
  },
  "language_info": {
   "codemirror_mode": {
    "name": "ipython",
    "version": 3
   },
   "file_extension": ".py",
   "mimetype": "text/x-python",
   "name": "python",
   "nbconvert_exporter": "python",
   "pygments_lexer": "ipython3",
   "version": "3.10.15"
  }
 },
 "nbformat": 4,
 "nbformat_minor": 2
}
