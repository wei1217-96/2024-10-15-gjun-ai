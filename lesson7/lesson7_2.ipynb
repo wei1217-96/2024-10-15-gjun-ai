{
 "cells": [
  {
   "cell_type": "code",
   "execution_count": 1,
   "metadata": {},
   "outputs": [
    {
     "name": "stdout",
     "output_type": "stream",
     "text": [
      "酒:白酒\n",
      "主餐:牛排\n",
      "甜點:蛋糕\n"
     ]
    }
   ],
   "source": [
    "def menu(wine:str, entree:str, dessert:str) -> None:\n",
    "    print(f\"酒:{wine}\")\n",
    "    print(f'主餐:{entree}')\n",
    "    print(f'甜點:{dessert}')\n",
    "\n",
    "#引數值的呼叫->依照順序\n",
    "\n",
    "menu('白酒','牛排','蛋糕')"
   ]
  },
  {
   "cell_type": "code",
   "execution_count": null,
   "metadata": {},
   "outputs": [],
   "source": [
    "def menu(wine:str, entree:str, dessert:str) -> None:\n",
    "    print(f\"酒:{wine}\")\n",
    "    print(f'主餐:{entree}')\n",
    "    print(f'甜點:{dessert}')\n",
    "\n",
    "#引數名稱的呼叫->不依照順序\n",
    "\n",
    "menu(wine='白酒',entree='牛排',dessert='蛋糕')\n",
    "print(\"==================\")\n",
    "menu(entree='牛排',dessert='蛋糕',wine='白酒')"
   ]
  },
  {
   "cell_type": "code",
   "execution_count": null,
   "metadata": {},
   "outputs": [],
   "source": [
    "def menu(wine:str, entree:str, dessert:str) -> None:\n",
    "    print(f\"酒:{wine}\")\n",
    "    print(f'主餐:{entree}')\n",
    "    print(f'甜點:{dessert}')\n",
    "\n",
    "#混合呼叫->前面使用引數值,後面使用引數名稱\n",
    "\n",
    "menu('白酒',dessert='蛋糕',entree='牛排')\n",
    "print(\"==================\")\n",
    "menu('白酒','牛排',dessert='蛋糕')"
   ]
  },
  {
   "cell_type": "code",
   "execution_count": null,
   "metadata": {},
   "outputs": [],
   "source": [
    "def menu(wine:str, entree:str, dessert:str='奶昔') -> None:\n",
    "    print(f\"酒:{wine}\")\n",
    "    print(f'主餐:{entree}')\n",
    "    print(f'甜點:{dessert}')\n",
    "\n",
    "menu('白酒','牛排')\n",
    "print(\"==================\")\n",
    "menu('白酒','牛排',dessert='蛋糕')"
   ]
  },
  {
   "cell_type": "code",
   "execution_count": null,
   "metadata": {},
   "outputs": [],
   "source": [
    "# *args=沒有限定數量的引數值呼叫\n",
    "def print_args(*args)->None:\n",
    "    print(args)\n",
    "\n",
    "print_args()\n",
    "print(\"=============\")\n",
    "print_args('a', '1', 4, 6, 9.8)\n",
    "print(\"=================\")"
   ]
  },
  {
   "cell_type": "code",
   "execution_count": null,
   "metadata": {},
   "outputs": [],
   "source": [
    "# **kwargs=>沒有限定數量的引數名稱呼叫\n",
    "def print_kwargs(**kwargs):\n",
    "    print(kwargs)\n",
    "\n",
    "print_kwargs()\n",
    "print(\"===============\")\n",
    "print_kwargs(one='1',two='2',three='3')"
   ]
  },
  {
   "cell_type": "code",
   "execution_count": null,
   "metadata": {},
   "outputs": [],
   "source": [
    "def print_all(*args,**kwargs):\n",
    "    print(args)\n",
    "    print(kwargs)\n",
    "\n",
    "print_all()\n",
    "print(\"==========\")\n",
    "print_all(1,2,3,4,5,one='1',two='2',three='3')"
   ]
  },
  {
   "cell_type": "code",
   "execution_count": 2,
   "metadata": {},
   "outputs": [
    {
     "name": "stdout",
     "output_type": "stream",
     "text": [
      "================\n",
      "\n",
      "\n",
      "\n",
      "==================\n"
     ]
    }
   ],
   "source": [
    "print(\"================\")\n",
    "print()\n",
    "print()\n",
    "print()\n",
    "print(\"==================\")"
   ]
  },
  {
   "cell_type": "code",
   "execution_count": 3,
   "metadata": {},
   "outputs": [
    {
     "name": "stdout",
     "output_type": "stream",
     "text": [
      "1 2 3 4 5\n",
      "==============\n",
      "1,2,3,4,5\n"
     ]
    }
   ],
   "source": [
    "print(1, 2, 3, 4, 5)\n",
    "print(\"==============\")\n",
    "print(1, 2, 3, 4, 5, sep=',')"
   ]
  }
 ],
 "metadata": {
  "kernelspec": {
   "display_name": "Python 3",
   "language": "python",
   "name": "python3"
  },
  "language_info": {
   "codemirror_mode": {
    "name": "ipython",
    "version": 3
   },
   "file_extension": ".py",
   "mimetype": "text/x-python",
   "name": "python",
   "nbconvert_exporter": "python",
   "pygments_lexer": "ipython3",
   "version": "3.10.15"
  }
 },
 "nbformat": 4,
 "nbformat_minor": 2
}
