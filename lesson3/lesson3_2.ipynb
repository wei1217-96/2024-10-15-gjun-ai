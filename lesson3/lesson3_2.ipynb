{
 "cells": [
  {
   "cell_type": "markdown",
   "metadata": {},
   "source": [
    "#### 文字\n",
    "- 單行文字\n",
    "- 多行文字\n",
    "- 字串差補\n"
   ]
  },
  {
   "cell_type": "code",
   "execution_count": 1,
   "metadata": {},
   "outputs": [
    {
     "data": {
      "text/plain": [
       "'Apple Arcade 推出的最新遊戲《Next Stop Nowhere》，由位於洛杉磯的開發商 Night School Studio 出品。這款遊戲是太空公路之旅的夥伴冒險，其中不同角色間展開了一些精彩的劇情。在銀河系的外圍，每個人和所有事物之間都有充分的空間，Night School 希望這款遊戲可為近來可能感到孤立的玩家提供一些慰藉。'"
      ]
     },
     "execution_count": 1,
     "metadata": {},
     "output_type": "execute_result"
    }
   ],
   "source": [
    "poem = \"Apple Arcade 推出的最新遊戲《Next Stop Nowhere》，\\\n",
    "由位於洛杉磯的開發商 Night School Studio 出品。\\\n",
    "這款遊戲是太空公路之旅的夥伴冒險，其中不同角色間展開了一些精彩的劇情。\\\n",
    "在銀河系的外圍，每個人和所有事物之間都有充分的空間，Night School 希望這款遊戲可為近來可能感到孤立的玩家提供一些慰藉。\"\n",
    "poem"
   ]
  },
  {
   "cell_type": "code",
   "execution_count": 6,
   "metadata": {},
   "outputs": [
    {
     "name": "stdout",
     "output_type": "stream",
     "text": [
      "Apple Arcade 推出的最新遊戲《Next Stop Nowhere》，\n",
      "由位於洛杉磯的開發商 Night School Studio 出品，\n",
      "這款遊戲是太空公路之旅的夥伴冒險，其中不同角色間展開了一些精彩的劇情。在銀河系的外圍，\n",
      "每個人和所有事物之間都有充分的空間，Night School 希望這款遊戲可為近來可能感到孤立的玩家提供一些慰藉。\n"
     ]
    }
   ],
   "source": [
    "poem2 = \"\"\"Apple Arcade 推出的最新遊戲《Next Stop Nowhere》，\n",
    "由位於洛杉磯的開發商 Night School Studio 出品，\n",
    "這款遊戲是太空公路之旅的夥伴冒險，其中不同角色間展開了一些精彩的劇情。在銀河系的外圍，\n",
    "每個人和所有事物之間都有充分的空間，Night School 希望這款遊戲可為近來可能感到孤立的玩家提供一些慰藉。\"\"\"\n",
    "poem2\n",
    "print(poem2)"
   ]
  },
  {
   "cell_type": "code",
   "execution_count": 9,
   "metadata": {},
   "outputs": [
    {
     "data": {
      "text/plain": [
       "'蘋果3個,香蕉5支,橘子6顆。'"
      ]
     },
     "execution_count": 9,
     "metadata": {},
     "output_type": "execute_result"
    }
   ],
   "source": [
    "apple = 3\n",
    "banana = 5\n",
    "orange = 6\n",
    "sentence = \"蘋果\" + str(apple) + \"個,香蕉\" + str(banana) + \"支,橘子\" + str(orange) + \"顆。\"\n",
    "sentence"
   ]
  },
  {
   "cell_type": "code",
   "execution_count": 8,
   "metadata": {},
   "outputs": [
    {
     "name": "stdout",
     "output_type": "stream",
     "text": [
      "蘋果3個,香蕉5個,橘子6個\n"
     ]
    }
   ],
   "source": [
    "apple = 3 \n",
    "banana = 5\n",
    "orange = 6\n",
    "sentence = f\"蘋果{apple}個,香蕉{banana}個,橘子{orange}個\"\n",
    "print(sentence)"
   ]
  }
 ],
 "metadata": {
  "kernelspec": {
   "display_name": "Python 3",
   "language": "python",
   "name": "python3"
  },
  "language_info": {
   "codemirror_mode": {
    "name": "ipython",
    "version": 3
   },
   "file_extension": ".py",
   "mimetype": "text/x-python",
   "name": "python",
   "nbconvert_exporter": "python",
   "pygments_lexer": "ipython3",
   "version": "3.10.15"
  }
 },
 "nbformat": 4,
 "nbformat_minor": 2
}
