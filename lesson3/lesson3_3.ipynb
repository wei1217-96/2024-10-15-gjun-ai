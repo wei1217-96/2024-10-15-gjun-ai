{
 "cells": [
  {
   "cell_type": "markdown",
   "metadata": {},
   "source": [
    "### 有input的數學運算"
   ]
  },
  {
   "cell_type": "code",
   "execution_count": 3,
   "metadata": {},
   "outputs": [
    {
     "name": "stdout",
     "output_type": "stream",
     "text": [
      "上底:6,下底:4,高:2\n",
      "面積10.0\n"
     ]
    }
   ],
   "source": [
    "top = int(input(\"請輸入上底:\"))\n",
    "bottom = int(input(\"請輸入下底:\"))\n",
    "height = int(input(\"請輸入高:\"))\n",
    "A = (top+bottom)*height/2\n",
    "print(f\"上底:{top},下底:{bottom},高:{height}\")\n",
    "print(f\"面積{A}\")"
   ]
  },
  {
   "cell_type": "code",
   "execution_count": 5,
   "metadata": {},
   "outputs": [
    {
     "name": "stdout",
     "output_type": "stream",
     "text": [
      "半徑:2.0,面積:12.57\n"
     ]
    }
   ],
   "source": [
    "radius = float(input(\"請輸入半徑:\"))\n",
    "pi = 3.1415926\n",
    "A = pi * radius ** 2\n",
    "print(f\"半徑:{radius},面積:{A:.2f}\")\n"
   ]
  },
  {
   "cell_type": "code",
   "execution_count": 1,
   "metadata": {},
   "outputs": [
    {
     "name": "stdout",
     "output_type": "stream",
     "text": [
      "角度是:30.0\n"
     ]
    }
   ],
   "source": [
    "import math\n",
    "斜邊 = float(input(\"請輸入斜邊:\"))\n",
    "對邊 = float(input(\"請輸入對邊:\"))\n",
    "sinx = 對邊/斜邊\n",
    "radian = math.asin(sinx)\n",
    "degree = math.degrees(radian)\n",
    "print(f\"角度是:{round(degree,ndigits=2)}\")"
   ]
  },
  {
   "cell_type": "code",
   "execution_count": 3,
   "metadata": {},
   "outputs": [
    {
     "name": "stdout",
     "output_type": "stream",
     "text": [
      "60.0公斤等於132.256磅\n"
     ]
    }
   ],
   "source": [
    "kilograms=float(input(\"請輸入公斤:\"))\n",
    "pounds=float(kilograms*2.20426)\n",
    "print(f\"{kilograms}公斤等於{pounds:.3f}磅\")"
   ]
  },
  {
   "cell_type": "code",
   "execution_count": 4,
   "metadata": {},
   "outputs": [
    {
     "name": "stdout",
     "output_type": "stream",
     "text": [
      "60.0磅等於27.220公斤\n"
     ]
    }
   ],
   "source": [
    "pounds=float(input(\"請輸入磅:\"))\n",
    "kilograms=float(pounds/2.20426)\n",
    "print(f\"{pounds}磅等於{kilograms:.3f}公斤\")"
   ]
  }
 ],
 "metadata": {
  "kernelspec": {
   "display_name": "Python 3",
   "language": "python",
   "name": "python3"
  },
  "language_info": {
   "codemirror_mode": {
    "name": "ipython",
    "version": 3
   },
   "file_extension": ".py",
   "mimetype": "text/x-python",
   "name": "python",
   "nbconvert_exporter": "python",
   "pygments_lexer": "ipython3",
   "version": "3.10.15"
  }
 },
 "nbformat": 4,
 "nbformat_minor": 2
}
