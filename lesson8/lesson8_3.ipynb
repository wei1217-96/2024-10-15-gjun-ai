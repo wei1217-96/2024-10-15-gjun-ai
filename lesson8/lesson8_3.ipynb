{
 "cells": [
  {
   "cell_type": "code",
   "execution_count": 4,
   "metadata": {},
   "outputs": [
    {
     "name": "stdout",
     "output_type": "stream",
     "text": [
      "林冠蕙\n",
      "賴心怡\n",
      "呂傑宣\n",
      "林麗萍\n",
      "陳孝邦\n",
      "黃心航\n",
      "王梅劭\n",
      "林佳蓉\n",
      "王人仰\n",
      "林希啟\n"
     ]
    }
   ],
   "source": [
    "import random\n",
    "def get_names(nums:int=2)->list[str]:\n",
    "    with open('names.txt',encoding='utf-8',mode='r') as file:\n",
    "        names_str = file.read()\n",
    "    names:list[str] = names_str.split(sep='\\n')\n",
    "    names = random.choices(names,k=nums)\n",
    "    return names\n",
    "\n",
    "nums = int(input('請輸入學生數量(最多10位):'))\n",
    "student_names:list[str] = get_names(nums=nums)\n",
    "for name in student_names:\n",
    "    print(name)\n"
   ]
  },
  {
   "cell_type": "code",
   "execution_count": 7,
   "metadata": {},
   "outputs": [],
   "source": [
    "def generate_students(names:list[str]) -> list[dict]:\n",
    "    for name in names:\n",
    "        chinese = random.randint(50, 100)\n",
    "        english = random.randint(50, 100)\n",
    "        math = random.randint(50, 100)\n",
    "        print({\"name\":name,\"chinese\":chinese,\"english\":english,\"math\":math})\n",
    "        print(\"=================\")"
   ]
  },
  {
   "cell_type": "code",
   "execution_count": 8,
   "metadata": {},
   "outputs": [
    {
     "name": "stdout",
     "output_type": "stream",
     "text": [
      "{'name': '林冠蕙', 'chinese': 50, 'english': 74, 'math': 90}\n",
      "=================\n",
      "{'name': '賴心怡', 'chinese': 79, 'english': 98, 'math': 84}\n",
      "=================\n",
      "{'name': '呂傑宣', 'chinese': 51, 'english': 100, 'math': 73}\n",
      "=================\n",
      "{'name': '林麗萍', 'chinese': 79, 'english': 77, 'math': 83}\n",
      "=================\n",
      "{'name': '陳孝邦', 'chinese': 79, 'english': 88, 'math': 94}\n",
      "=================\n",
      "{'name': '黃心航', 'chinese': 97, 'english': 91, 'math': 77}\n",
      "=================\n",
      "{'name': '王梅劭', 'chinese': 69, 'english': 85, 'math': 52}\n",
      "=================\n",
      "{'name': '林佳蓉', 'chinese': 68, 'english': 69, 'math': 55}\n",
      "=================\n",
      "{'name': '王人仰', 'chinese': 80, 'english': 74, 'math': 84}\n",
      "=================\n",
      "{'name': '林希啟', 'chinese': 71, 'english': 90, 'math': 58}\n",
      "=================\n"
     ]
    }
   ],
   "source": [
    "generate_students(names=student_names)"
   ]
  },
  {
   "cell_type": "code",
   "execution_count": 10,
   "metadata": {},
   "outputs": [],
   "source": [
    "def generate_students(names:list[str]) -> list[dict]:\n",
    "    students:list[dict] = []\n",
    "    for name in names:\n",
    "        chinese = random.randint(50, 100)\n",
    "        english = random.randint(50, 100)\n",
    "        math = random.randint(50, 100)\n",
    "        student = {'name':name,'chinese':chinese,'english':english,'math':math}\n",
    "        students.append(student)\n",
    "    return students  "
   ]
  },
  {
   "cell_type": "code",
   "execution_count": 11,
   "metadata": {},
   "outputs": [
    {
     "data": {
      "text/plain": [
       "[{'name': '林冠蕙', 'chinese': 84, 'english': 58, 'math': 65},\n",
       " {'name': '賴心怡', 'chinese': 99, 'english': 51, 'math': 87},\n",
       " {'name': '呂傑宣', 'chinese': 55, 'english': 55, 'math': 99},\n",
       " {'name': '林麗萍', 'chinese': 54, 'english': 66, 'math': 82},\n",
       " {'name': '陳孝邦', 'chinese': 66, 'english': 95, 'math': 91},\n",
       " {'name': '黃心航', 'chinese': 73, 'english': 72, 'math': 72},\n",
       " {'name': '王梅劭', 'chinese': 52, 'english': 99, 'math': 97},\n",
       " {'name': '林佳蓉', 'chinese': 84, 'english': 94, 'math': 86},\n",
       " {'name': '王人仰', 'chinese': 92, 'english': 60, 'math': 62},\n",
       " {'name': '林希啟', 'chinese': 56, 'english': 74, 'math': 59}]"
      ]
     },
     "execution_count": 11,
     "metadata": {},
     "output_type": "execute_result"
    }
   ],
   "source": [
    "generate_students(names=student_names)"
   ]
  }
 ],
 "metadata": {
  "kernelspec": {
   "display_name": "Python 3",
   "language": "python",
   "name": "python3"
  },
  "language_info": {
   "codemirror_mode": {
    "name": "ipython",
    "version": 3
   },
   "file_extension": ".py",
   "mimetype": "text/x-python",
   "name": "python",
   "nbconvert_exporter": "python",
   "pygments_lexer": "ipython3",
   "version": "3.10.15"
  }
 },
 "nbformat": 4,
 "nbformat_minor": 2
}
