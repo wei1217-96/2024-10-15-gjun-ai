{
 "cells": [
  {
   "cell_type": "code",
   "execution_count": null,
   "metadata": {},
   "outputs": [
    {
     "name": "stdout",
     "output_type": "stream",
     "text": [
      "52\n",
      "===========猜數字遊戲===========\n",
      "\n",
      "超出範圍,請重新輸入\n",
      "請重新輸入\n"
     ]
    }
   ],
   "source": [
    "import random\n",
    "\n",
    "#減少邏輯思考\n",
    "def playGame()->None:\n",
    "    min = 1\n",
    "    max = 100\n",
    "    count = 0\n",
    "    target = random.randint(min, max)\n",
    "    print(target)\n",
    "    print(\"===========猜數字遊戲===========\\n\")\n",
    "    while(True):\n",
    "        count += 1\n",
    "        try:\n",
    "            keyin = int(input(f\"猜數字範圍{min}~{max}:\"))\n",
    "        except Exception:\n",
    "            print(\"請重新輸入\")\n",
    "            continue\n",
    "        if keyin >= min and keyin <= max:\n",
    "            if(keyin == target):\n",
    "                print(f\"賓果!猜對了, 答案是:{target}\")\n",
    "                print(f\"您總共猜了{count}次\")\n",
    "                print(\"===============\")\n",
    "                break\n",
    "            elif keyin > target:\n",
    "                print(\"再小一點\")\n",
    "                max = keyin - 1            \n",
    "            elif keyin < target:\n",
    "                print(\"再大一點\")\n",
    "                min = keyin + 1\n",
    "            print(f\"您已經猜了{count}次\")\n",
    "            print(\"================\")\n",
    "\n",
    "        else:\n",
    "            print(\"超出範圍,請重新輸入\")\n",
    "\n",
    "while(True):\n",
    "    playGame()\n",
    "    answer = input(\"請問還要繼續嗎?y,n\")\n",
    "    if answer.upper() == 'N':\n",
    "        break\n",
    "\n",
    "print(\"遊戲結束\")"
   ]
  },
  {
   "cell_type": "code",
   "execution_count": 4,
   "metadata": {},
   "outputs": [
    {
     "name": "stdout",
     "output_type": "stream",
     "text": [
      "計算BMI\n",
      "請輸入姓名:555\n",
      "請輸入身高(cm):555\n",
      "請輸入體重(kg):555\n",
      "您的BMI值:18.02\n",
      "您的體重:體重過輕\n",
      "請問要繼續嗎?(y,n):5\n",
      "===============\n",
      "您輸入錯誤,請重新開始\n"
     ]
    }
   ],
   "source": [
    "while True:\n",
    "    try:\n",
    "        print(\"計算BMI\")\n",
    "        name = str(input(\"請輸入姓名:\"))\n",
    "        height = eval(input(\"請輸入身高(cm):\"))\n",
    "        weight = eval(input(\"請輸入體重(kg):\"))\n",
    "        BMI = weight / ((height/100)**2)\n",
    "        print(f\"請輸入姓名:{name}\")\n",
    "        print(f\"請輸入身高(cm):{height}\")\n",
    "        print(f\"請輸入體重(kg):{weight}\")\n",
    "        print(f\"您的BMI值:{BMI:.2f}\")\n",
    "        if BMI >=35:\n",
    "            print(\"您的體重:重度肥胖\")\n",
    "        elif BMI >= 30:\n",
    "            print(\"您的體重:中度肥胖\")\n",
    "        elif BMI >= 27:\n",
    "            print(\"您的體重:輕度肥胖\")\n",
    "        elif BMI >= 24:\n",
    "            print(\"您的體重:過重\")\n",
    "        elif BMI >= 18.5:\n",
    "            print(\"您的體重:正常範圍\")\n",
    "        else:\n",
    "            print(\"您的體重:體重過輕\")\n",
    "        value=str(input(\"請問要繼續嗎?(y,n):\"))\n",
    "        print(f\"請問要繼續嗎?(y,n):{value}\")\n",
    "        print(\"===============\")\n",
    "        if value.upper()==\"Y\":\n",
    "            continue\n",
    "        elif value.upper()==\"N\":\n",
    "            print('應用程式結束')\n",
    "            break\n",
    "        else:\n",
    "            print(\"您輸入錯誤,請重新開始\")\n",
    "            break\n",
    "    except Exception:\n",
    "        print(\"輸入錯誤,請重新開始\")\n",
    "        break\n",
    "    "
   ]
  }
 ],
 "metadata": {
  "kernelspec": {
   "display_name": "Python 3",
   "language": "python",
   "name": "python3"
  },
  "language_info": {
   "codemirror_mode": {
    "name": "ipython",
    "version": 3
   },
   "file_extension": ".py",
   "mimetype": "text/x-python",
   "name": "python",
   "nbconvert_exporter": "python",
   "pygments_lexer": "ipython3",
   "version": "3.10.15"
  }
 },
 "nbformat": 4,
 "nbformat_minor": 2
}
