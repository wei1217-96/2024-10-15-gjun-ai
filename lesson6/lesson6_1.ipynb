{
 "cells": [
  {
   "cell_type": "code",
   "execution_count": 3,
   "metadata": {},
   "outputs": [
    {
     "name": "stdout",
     "output_type": "stream",
     "text": [
      "恭喜存到了,共存了65145143元,花了4個月\n"
     ]
    }
   ],
   "source": [
    "deposit = 0\n",
    "month = 0\n",
    "\n",
    "while (True):\n",
    "    month += 1\n",
    "    money = int(input(f\"請輸入第{month}月的存款\"))\n",
    "    deposit += money\n",
    "    if deposit>=30000:\n",
    "        break\n",
    "print(f\"恭喜存到了,共存了{money}元,花了{month}個月\")"
   ]
  },
  {
   "cell_type": "code",
   "execution_count": 5,
   "metadata": {},
   "outputs": [
    {
     "name": "stdout",
     "output_type": "stream",
     "text": [
      "\n",
      "應用程式結束\n"
     ]
    }
   ],
   "source": [
    "while(True):\n",
    "    stuff = input(\"請輸入小寫英文字[按q會離開]:\")\n",
    "    if stuff.upper()==\"Q\":\n",
    "        break\n",
    "    print(stuff.capitalize())\n",
    "print(\"應用程式結束\")"
   ]
  },
  {
   "cell_type": "code",
   "execution_count": 6,
   "metadata": {},
   "outputs": [
    {
     "name": "stdout",
     "output_type": "stream",
     "text": [
      "49\n",
      "81\n",
      "1225\n",
      "4489\n",
      "應用程式結束\n"
     ]
    }
   ],
   "source": [
    "'''\n",
    "docstring\n",
    "顯示:\n",
    "請輸入整數,輸入[q]離開\n",
    "輸入的格式錯誤,要求重新輸入\n",
    "奇數輸出平方\n",
    "偶數不做任何動作\n",
    "'q'要離開\n",
    "'''\n",
    "\n",
    "while(True):\n",
    "    value = input(\"請輸入整數,輸入[q]離開:\")\n",
    "    if value.upper() == 'Q':\n",
    "        break\n",
    "    try:\n",
    "        value_int = int(value)\n",
    "    except:\n",
    "        print(\"請重新輸入\")\n",
    "        continue\n",
    "    if not (value_int % 2) == 0:\n",
    "        print(value_int**2)\n",
    "    \n",
    "print(\"應用程式結束\")"
   ]
  },
  {
   "cell_type": "code",
   "execution_count": 7,
   "metadata": {},
   "outputs": [
    {
     "data": {
      "text/plain": [
       "1"
      ]
     },
     "execution_count": 7,
     "metadata": {},
     "output_type": "execute_result"
    }
   ],
   "source": [
    "import random\n",
    "random.randint(1,10)\n"
   ]
  },
  {
   "cell_type": "code",
   "execution_count": null,
   "metadata": {},
   "outputs": [
    {
     "name": "stdout",
     "output_type": "stream",
     "text": [
      "==============猜數字遊戲=============\n",
      "\n",
      "再大一點\n",
      "你已經猜了1次\n",
      "==================\n",
      "再小一點\n",
      "你已經猜了2次\n",
      "==================\n",
      "再小一點\n",
      "你已經猜了3次\n",
      "==================\n",
      "恭喜你答對了,答案是65\n",
      "你總共輸入了4次\n",
      "應用程式結束\n"
     ]
    }
   ],
   "source": [
    "min=1\n",
    "max=100\n",
    "count =0\n",
    "target=random.randint(min,max)\n",
    "print(\"==============猜數字遊戲=============\\n\")\n",
    "\n",
    "while(True):\n",
    "    count += 1\n",
    "    try:\n",
    "        keyin=int(input(f\"猜數字範圍{min}~{max}:\"))\n",
    "    except Exception:\n",
    "        print(\"請重新輸入\")\n",
    "        continue\n",
    "    if keyin>=min and keyin<=max:\n",
    "        if keyin == target:\n",
    "            print(f\"恭喜你答對了,答案是{target}\")\n",
    "            print(f\"你總共輸入了{count}次\")\n",
    "            break\n",
    "        elif keyin > target:\n",
    "            print(\"再小一點\")\n",
    "            max = keyin-1\n",
    "        elif keyin < target:\n",
    "            print(\"再大一點\")\n",
    "            min = keyin+1\n",
    "        print(f\"你已經猜了{count}次\")\n",
    "        print(f\"==================\")\n",
    "    else:\n",
    "        print(\"超出範圍,請重新輸入\")\n",
    "\n",
    "print(\"應用程式結束\")"
   ]
  }
 ],
 "metadata": {
  "kernelspec": {
   "display_name": "Python 3",
   "language": "python",
   "name": "python3"
  },
  "language_info": {
   "codemirror_mode": {
    "name": "ipython",
    "version": 3
   },
   "file_extension": ".py",
   "mimetype": "text/x-python",
   "name": "python",
   "nbconvert_exporter": "python",
   "pygments_lexer": "ipython3",
   "version": "3.10.15"
  }
 },
 "nbformat": 4,
 "nbformat_minor": 2
}
